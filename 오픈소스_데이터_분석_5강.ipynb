{
  "nbformat": 4,
  "nbformat_minor": 0,
  "metadata": {
    "colab": {
      "provenance": [],
      "include_colab_link": true
    },
    "kernelspec": {
      "name": "python3",
      "display_name": "Python 3"
    },
    "language_info": {
      "name": "python"
    }
  },
  "cells": [
    {
      "cell_type": "markdown",
      "metadata": {
        "id": "view-in-github",
        "colab_type": "text"
      },
      "source": [
        "<a href=\"https://colab.research.google.com/github/ssunm2/Data-Analysis-with-Open-Source/blob/main/%EC%98%A4%ED%94%88%EC%86%8C%EC%8A%A4_%EB%8D%B0%EC%9D%B4%ED%84%B0_%EB%B6%84%EC%84%9D_5%EA%B0%95.ipynb\" target=\"_parent\"><img src=\"https://colab.research.google.com/assets/colab-badge.svg\" alt=\"Open In Colab\"/></a>"
      ]
    },
    {
      "cell_type": "markdown",
      "source": [
        "# 오픈소스 기반 데이터 분석 5강 - 데이터 저장"
      ],
      "metadata": {
        "id": "O4kC4JMknVnK"
      }
    },
    {
      "cell_type": "markdown",
      "source": [
        "## 5-1 CSV 형식 저장"
      ],
      "metadata": {
        "id": "8DfV0cZLqj_s"
      }
    },
    {
      "cell_type": "code",
      "source": [
        "import pandas as pd\n",
        "\n",
        "data = {\n",
        "    'student_id': [101, 102, 103, 104, 105],\n",
        "    'database_score': [85, 76, 92, 63, 88],\n",
        "    'cloudcomputing_score': [78, 82, 95, 70, 84],\n",
        "    'python_score': [92, 78, 85, 75, 91],\n",
        "    'watch_rate': [0.95, 0.87, 0.99, 0.80, 0.93]\n",
        "}\n",
        "## DataFrame 생성\n",
        "df = pd.DataFrame(data)\n",
        "#df\n",
        "\n",
        "## CSV 형식 저장\n",
        "df.to_csv('student_analysis.csv', encoding='utf-8',  index=False)"
      ],
      "metadata": {
        "id": "DztLRI9gW2lk"
      },
      "execution_count": 6,
      "outputs": []
    },
    {
      "cell_type": "markdown",
      "source": [
        "## 5-2 JSON 형식 저장"
      ],
      "metadata": {
        "id": "CSABzaf3q8XU"
      }
    },
    {
      "cell_type": "code",
      "source": [
        "### 라이브러리 임포트\n",
        "import json\n",
        "import pandas as pd\n",
        "\n",
        "data = {\n",
        "    \"이름\": \"홍길동\",\n",
        "    \"나이\": 25,\n",
        "    \"거주지\": \"서울\",\n",
        "    \"관심사\": [\"프로그래밍\", \"데이터 분석\", \"여행\"]\n",
        "}\n",
        "\n",
        "## json.dump를 이용한 저장\n",
        "with open('output.json', mode='w', encoding='utf-8') as f:\n",
        "    json.dump(data, f, indent=4, ensure_ascii=False)\n",
        "    # f어디에 저장 file, indent(들여쓰기), ascii코드로 저장해야 한글이 보임\n",
        "\n",
        "## DataFrame을 이용한 저장\n",
        "df = pd.DataFrame([data]) #[]로 감싸지않으면 관심사별로 나옴\n",
        "df.to_json('output_df.json', orient='records', indent=4, force_ascii=False)\n",
        "#oridnet=columns는 컬럼 단위로 저장됨 (이름, 나이 등)"
      ],
      "metadata": {
        "id": "7bAgRpizW7Vj"
      },
      "execution_count": 11,
      "outputs": []
    },
    {
      "cell_type": "markdown",
      "source": [
        "## 5-3 Pandas Dataframe 데이터 추출"
      ],
      "metadata": {
        "id": "NMlsQDHtrA_x"
      }
    },
    {
      "cell_type": "code",
      "source": [
        "import pandas as pd\n",
        "\n",
        "data = {\n",
        "    \"이름\": [\"김철수\", \"이영희\", \"박민수\", \"최지훈\", \"정소희\"],\n",
        "    \"학년\": [1, 2, 3, 4, 2],\n",
        "    \"학점\": [4.2, 3.8, 4.5, 3.9, 3.5],\n",
        "    \"학과\": [\"컴퓨터학\", \"경영학\", \"농학\", \"교육학\", \"영어영문학\"],\n",
        "    \"동아리\": [\"프로그래밍\", \"독서토론\", \"로봇공학\", \"봉사활동\", \"음악감상\"]\n",
        "}\n",
        "df = pd.DataFrame(data)\n",
        "df\n",
        "## DataFrame 인덱스 출력\n",
        "print(df.index)\n",
        "\n",
        "## DataFrame 컬럼 출력\n",
        "print(df.columns)\n",
        "\n",
        "## DataFrame 행 출력\n",
        "print(df.values.tolist()) #Python의 list 형태\n",
        "print(df.values) #Numpy Array형태\n",
        "\n",
        "## DataFrame 값 출력\n",
        "print(df.values.flatten())"
      ],
      "metadata": {
        "id": "dk3xneVAW9_g",
        "outputId": "c4b03826-28d0-4b4f-e739-9ff21e410999",
        "colab": {
          "base_uri": "https://localhost:8080/"
        }
      },
      "execution_count": 19,
      "outputs": [
        {
          "output_type": "stream",
          "name": "stdout",
          "text": [
            "RangeIndex(start=0, stop=5, step=1)\n",
            "Index(['이름', '학년', '학점', '학과', '동아리'], dtype='object')\n",
            "[['김철수', 1, 4.2, '컴퓨터학', '프로그래밍'], ['이영희', 2, 3.8, '경영학', '독서토론'], ['박민수', 3, 4.5, '농학', '로봇공학'], ['최지훈', 4, 3.9, '교육학', '봉사활동'], ['정소희', 2, 3.5, '영어영문학', '음악감상']]\n",
            "[['김철수' 1 4.2 '컴퓨터학' '프로그래밍']\n",
            " ['이영희' 2 3.8 '경영학' '독서토론']\n",
            " ['박민수' 3 4.5 '농학' '로봇공학']\n",
            " ['최지훈' 4 3.9 '교육학' '봉사활동']\n",
            " ['정소희' 2 3.5 '영어영문학' '음악감상']]\n",
            "['김철수' 1 4.2 '컴퓨터학' '프로그래밍' '이영희' 2 3.8 '경영학' '독서토론' '박민수' 3 4.5 '농학'\n",
            " '로봇공학' '최지훈' 4 3.9 '교육학' '봉사활동' '정소희' 2 3.5 '영어영문학' '음악감상']\n"
          ]
        }
      ]
    },
    {
      "cell_type": "markdown",
      "source": [
        "## 5-4 DataFrame 생성 방법"
      ],
      "metadata": {
        "id": "ILJd1GLoseqm"
      }
    },
    {
      "cell_type": "code",
      "source": [
        "import pandas as pd\n",
        "import json\n",
        "\n",
        "data = {\n",
        "    \"이름\": [\"김철수\", \"이영희\", \"박민수\", \"최지훈\", \"정소희\"],\n",
        "    \"학년\": [1, 2, 3, 4, 2],\n",
        "    \"학점\": [4.2, 3.8, 4.5, 3.9, 3.5],\n",
        "    \"학과\": [\"컴퓨터공학\", \"경영학\", \"전자공학\", \"의학\", \"심리학\"],\n",
        "    \"동아리\": [\"프로그래밍\", \"독서토론\", \"로봇공학\", \"봉사활동\", \"음악감상\"]\n",
        "}\n",
        "\n",
        "## 딕셔너리, csv, json으로 부터 DataFrame 생성\n",
        "df1 = pd.DataFrame.from_dict(data) #from_dict: 딕셔너리로 데이터 형식이다 정확한 명시 방법\n",
        "df2 = pd.read_csv('students.csv')\n",
        "df3 = pd.read_json('students.json')\n",
        "\n",
        "\n",
        "## 세가지 방법 결과 비교\n",
        "print(df1.shape) #shape: 가로로 몇개 세로로 몇개 알려주는 메소드\n",
        "print(df2.shape)\n",
        "print(df3.shape)"
      ],
      "metadata": {
        "id": "ISnPLEgNXAmi",
        "outputId": "6f595f79-bcb3-4945-9059-723313e51a3a",
        "colab": {
          "base_uri": "https://localhost:8080/"
        }
      },
      "execution_count": 22,
      "outputs": [
        {
          "output_type": "stream",
          "name": "stdout",
          "text": [
            "(4, 5)\n",
            "(5, 5)\n",
            "(5, 5)\n"
          ]
        }
      ]
    },
    {
      "cell_type": "markdown",
      "source": [
        "## 5-5 DataFrame 저장 방법"
      ],
      "metadata": {
        "id": "z1N6lAnwsdyU"
      }
    },
    {
      "cell_type": "code",
      "source": [
        "import pandas as pd\n",
        "\n",
        "data = {\n",
        "    \"이름\": [\"김철수\", \"이영희\", \"박민수\", \"최지훈\", \"정소희\"],\n",
        "    \"학년\": [1, 2, 3, 4, 2],\n",
        "    \"학점\": [4.2, 3.8, 4.5, 3.9, 3.5],\n",
        "    \"학과\": [\"컴퓨터공학\", \"경영학\", \"전자공학\", \"의학\", \"심리학\"],\n",
        "    \"동아리\": [\"프로그래밍\", \"독서토론\", \"로봇공학\", \"봉사활동\", \"음악감상\"]\n",
        "}\n",
        "\n",
        "## Dataframe 생성\n",
        "df = pd.DataFrame(data)\n",
        "\n",
        "## CSV, JSON 형식으로 저장\n",
        "df.to_csv('students_scores.csv')\n",
        "df.to_json('students_scores.json')\n",
        "\n",
        "## HTML 형식으로 저장\n",
        "html_table = df.to_html()\n",
        "#print(html_table)\n",
        "with open('students_scores.html', 'w') as f:\n",
        "    f.write(html_table)"
      ],
      "metadata": {
        "id": "_dqoWCRoXDrJ"
      },
      "execution_count": 24,
      "outputs": []
    },
    {
      "cell_type": "markdown",
      "source": [
        "## 5-6 실습 시나리오"
      ],
      "metadata": {
        "id": "ifBFAyulsdJb"
      }
    },
    {
      "cell_type": "markdown",
      "source": [
        "## 데이터 수집"
      ],
      "metadata": {
        "id": "muFj6okKyXy6"
      }
    },
    {
      "cell_type": "code",
      "source": [
        "import requests\n",
        "\n",
        "url = \"http://apis.data.go.kr/B552584/ArpltnInforInqireSvc/getMinuDustFrcstDspth\"\n",
        "api_key = 'secret'\n",
        "\n",
        "params = {\n",
        "    'serviceKey': api_key,\n",
        "    'returnType': 'json',\n",
        "    'numOfRows': '100',\n",
        "    'pageNo': '1',\n",
        "    'sidoName': '서울',\n",
        "    'ver': '1.0'\n",
        "}\n",
        "\n",
        "## 데이터 수집\n",
        "response = requests.get(url, params=params)\n",
        "\n",
        "## 호출 성공/실패 출력\n",
        "#print(response.json())\n",
        "\n",
        "response.json()\n"
      ],
      "metadata": {
        "id": "7yCozmQeXJcO",
        "outputId": "732c1851-6f50-4548-a6c4-b5059cc6a82b",
        "colab": {
          "base_uri": "https://localhost:8080/"
        }
      },
      "execution_count": 31,
      "outputs": [
        {
          "output_type": "execute_result",
          "data": {
            "text/plain": [
              "{'response': {'body': {'totalCount': 852,\n",
              "   'items': [{'informCode': 'O3', 'dataTime': '2025-09-08'},\n",
              "    {'informCode': 'O3', 'dataTime': '2025-09-08'},\n",
              "    {'informCode': 'PM10', 'dataTime': '2025-09-08'},\n",
              "    {'informCode': 'PM10', 'dataTime': '2025-09-08'},\n",
              "    {'informCode': 'PM25', 'dataTime': '2025-09-08'},\n",
              "    {'informCode': 'PM25', 'dataTime': '2025-09-08'},\n",
              "    {'informCode': 'O3', 'dataTime': '2025-09-08'},\n",
              "    {'informCode': 'O3', 'dataTime': '2025-09-08'},\n",
              "    {'informCode': 'PM10', 'dataTime': '2025-09-08'},\n",
              "    {'informCode': 'PM10', 'dataTime': '2025-09-08'},\n",
              "    {'informCode': 'PM25', 'dataTime': '2025-09-08'},\n",
              "    {'informCode': 'PM25', 'dataTime': '2025-09-08'},\n",
              "    {'informCode': 'PM10', 'dataTime': '2025-09-07'},\n",
              "    {'informCode': 'PM10', 'dataTime': '2025-09-07'},\n",
              "    {'informCode': 'PM25', 'dataTime': '2025-09-07'},\n",
              "    {'informCode': 'PM25', 'dataTime': '2025-09-07'},\n",
              "    {'informCode': 'O3', 'dataTime': '2025-09-07'},\n",
              "    {'informCode': 'O3', 'dataTime': '2025-09-07'},\n",
              "    {'informCode': 'PM10', 'dataTime': '2025-09-07'},\n",
              "    {'informCode': 'PM10', 'dataTime': '2025-09-07'},\n",
              "    {'informCode': 'PM25', 'dataTime': '2025-09-07'},\n",
              "    {'informCode': 'PM25', 'dataTime': '2025-09-07'},\n",
              "    {'informCode': 'O3', 'dataTime': '2025-09-07'},\n",
              "    {'informCode': 'O3', 'dataTime': '2025-09-07'},\n",
              "    {'informCode': 'PM10', 'dataTime': '2025-09-07'},\n",
              "    {'informCode': 'PM10', 'dataTime': '2025-09-07'},\n",
              "    {'informCode': 'PM25', 'dataTime': '2025-09-07'},\n",
              "    {'informCode': 'PM25', 'dataTime': '2025-09-07'},\n",
              "    {'informCode': 'O3', 'dataTime': '2025-09-07'},\n",
              "    {'informCode': 'O3', 'dataTime': '2025-09-07'},\n",
              "    {'informCode': 'PM10', 'dataTime': '2025-09-07'},\n",
              "    {'informCode': 'PM10', 'dataTime': '2025-09-07'},\n",
              "    {'informCode': 'PM10', 'dataTime': '2025-09-07'},\n",
              "    {'informCode': 'PM25', 'dataTime': '2025-09-07'},\n",
              "    {'informCode': 'PM25', 'dataTime': '2025-09-07'},\n",
              "    {'informCode': 'PM25', 'dataTime': '2025-09-07'},\n",
              "    {'informCode': 'O3', 'dataTime': '2025-09-07'},\n",
              "    {'informCode': 'O3', 'dataTime': '2025-09-07'},\n",
              "    {'informCode': 'PM10', 'dataTime': '2025-09-07'},\n",
              "    {'informCode': 'PM25', 'dataTime': '2025-09-07'},\n",
              "    {'informCode': 'O3', 'dataTime': '2025-09-06'},\n",
              "    {'informCode': 'PM25', 'dataTime': '2025-09-06'},\n",
              "    {'informCode': 'PM10', 'dataTime': '2025-09-06'},\n",
              "    {'informCode': 'PM10', 'dataTime': '2025-09-06'},\n",
              "    {'informCode': 'PM25', 'dataTime': '2025-09-06'},\n",
              "    {'informCode': 'PM25', 'dataTime': '2025-09-06'},\n",
              "    {'informCode': 'O3', 'dataTime': '2025-09-06'},\n",
              "    {'informCode': 'O3', 'dataTime': '2025-09-06'},\n",
              "    {'informCode': 'PM10', 'dataTime': '2025-09-06'},\n",
              "    {'informCode': 'PM10', 'dataTime': '2025-09-06'},\n",
              "    {'informCode': 'PM25', 'dataTime': '2025-09-06'},\n",
              "    {'informCode': 'PM25', 'dataTime': '2025-09-06'},\n",
              "    {'informCode': 'O3', 'dataTime': '2025-09-06'},\n",
              "    {'informCode': 'O3', 'dataTime': '2025-09-06'},\n",
              "    {'informCode': 'PM10', 'dataTime': '2025-09-06'},\n",
              "    {'informCode': 'PM10', 'dataTime': '2025-09-06'},\n",
              "    {'informCode': 'PM10', 'dataTime': '2025-09-06'},\n",
              "    {'informCode': 'PM25', 'dataTime': '2025-09-06'},\n",
              "    {'informCode': 'PM25', 'dataTime': '2025-09-06'},\n",
              "    {'informCode': 'PM25', 'dataTime': '2025-09-06'},\n",
              "    {'informCode': 'O3', 'dataTime': '2025-09-06'},\n",
              "    {'informCode': 'O3', 'dataTime': '2025-09-06'},\n",
              "    {'informCode': 'PM10', 'dataTime': '2025-09-06'},\n",
              "    {'informCode': 'PM10', 'dataTime': '2025-09-06'},\n",
              "    {'informCode': 'PM10', 'dataTime': '2025-09-06'},\n",
              "    {'informCode': 'PM25', 'dataTime': '2025-09-06'},\n",
              "    {'informCode': 'PM25', 'dataTime': '2025-09-06'},\n",
              "    {'informCode': 'O3', 'dataTime': '2025-09-06'},\n",
              "    {'informCode': 'PM10', 'dataTime': '2025-09-05'},\n",
              "    {'informCode': 'PM10', 'dataTime': '2025-09-05'},\n",
              "    {'informCode': 'PM25', 'dataTime': '2025-09-05'},\n",
              "    {'informCode': 'PM25', 'dataTime': '2025-09-05'},\n",
              "    {'informCode': 'O3', 'dataTime': '2025-09-05'},\n",
              "    {'informCode': 'O3', 'dataTime': '2025-09-05'},\n",
              "    {'informCode': 'PM10', 'dataTime': '2025-09-05'},\n",
              "    {'informCode': 'PM10', 'dataTime': '2025-09-05'},\n",
              "    {'informCode': 'PM10', 'dataTime': '2025-09-05'},\n",
              "    {'informCode': 'PM25', 'dataTime': '2025-09-05'},\n",
              "    {'informCode': 'PM25', 'dataTime': '2025-09-05'},\n",
              "    {'informCode': 'PM25', 'dataTime': '2025-09-05'},\n",
              "    {'informCode': 'O3', 'dataTime': '2025-09-05'},\n",
              "    {'informCode': 'O3', 'dataTime': '2025-09-05'},\n",
              "    {'informCode': 'PM10', 'dataTime': '2025-09-05'},\n",
              "    {'informCode': 'PM10', 'dataTime': '2025-09-05'},\n",
              "    {'informCode': 'PM25', 'dataTime': '2025-09-05'},\n",
              "    {'informCode': 'PM25', 'dataTime': '2025-09-05'},\n",
              "    {'informCode': 'O3', 'dataTime': '2025-09-05'},\n",
              "    {'informCode': 'O3', 'dataTime': '2025-09-05'},\n",
              "    {'informCode': 'PM10', 'dataTime': '2025-09-05'},\n",
              "    {'informCode': 'PM10', 'dataTime': '2025-09-05'},\n",
              "    {'informCode': 'PM25', 'dataTime': '2025-09-05'},\n",
              "    {'informCode': 'PM25', 'dataTime': '2025-09-05'},\n",
              "    {'informCode': 'O3', 'dataTime': '2025-09-05'},\n",
              "    {'informCode': 'O3', 'dataTime': '2025-09-05'},\n",
              "    {'informCode': 'PM10', 'dataTime': '2025-09-05'},\n",
              "    {'informCode': 'PM25', 'dataTime': '2025-09-05'},\n",
              "    {'informCode': 'O3', 'dataTime': '2025-09-04'},\n",
              "    {'informCode': 'O3', 'dataTime': '2025-09-04'},\n",
              "    {'informCode': 'PM10', 'dataTime': '2025-09-04'},\n",
              "    {'informCode': 'PM10', 'dataTime': '2025-09-04'}],\n",
              "   'pageNo': 1,\n",
              "   'numOfRows': 100},\n",
              "  'header': {'resultMsg': 'NORMAL_CODE', 'resultCode': '00'}}}"
            ]
          },
          "metadata": {},
          "execution_count": 31
        }
      ]
    },
    {
      "cell_type": "markdown",
      "source": [
        "## 데이터 프레임 생성"
      ],
      "metadata": {
        "id": "d6mT4IxkySzI"
      }
    },
    {
      "cell_type": "code",
      "source": [
        "import pandas as pd\n",
        "\n",
        "## requests로부터 response, body, item 항목 읽기\n",
        "data = response.json()['response']['body']['items']\n",
        "print(type(data))\n",
        "print(len(data))\n",
        "print(data[0])\n",
        "\n",
        "df = pd.DataFrame(data)\n",
        "\n",
        "df['informCode']"
      ],
      "metadata": {
        "id": "HOOo9qTsXLkB",
        "outputId": "55388af0-cdab-4971-88ee-aea20d7f1441",
        "colab": {
          "base_uri": "https://localhost:8080/",
          "height": 513
        }
      },
      "execution_count": 35,
      "outputs": [
        {
          "output_type": "stream",
          "name": "stdout",
          "text": [
            "<class 'list'>\n",
            "100\n",
            "{'informCode': 'O3', 'dataTime': '2025-09-08'}\n"
          ]
        },
        {
          "output_type": "execute_result",
          "data": {
            "text/plain": [
              "0       O3\n",
              "1       O3\n",
              "2     PM10\n",
              "3     PM10\n",
              "4     PM25\n",
              "      ... \n",
              "95    PM25\n",
              "96      O3\n",
              "97      O3\n",
              "98    PM10\n",
              "99    PM10\n",
              "Name: informCode, Length: 100, dtype: object"
            ],
            "text/html": [
              "<div>\n",
              "<style scoped>\n",
              "    .dataframe tbody tr th:only-of-type {\n",
              "        vertical-align: middle;\n",
              "    }\n",
              "\n",
              "    .dataframe tbody tr th {\n",
              "        vertical-align: top;\n",
              "    }\n",
              "\n",
              "    .dataframe thead th {\n",
              "        text-align: right;\n",
              "    }\n",
              "</style>\n",
              "<table border=\"1\" class=\"dataframe\">\n",
              "  <thead>\n",
              "    <tr style=\"text-align: right;\">\n",
              "      <th></th>\n",
              "      <th>informCode</th>\n",
              "    </tr>\n",
              "  </thead>\n",
              "  <tbody>\n",
              "    <tr>\n",
              "      <th>0</th>\n",
              "      <td>O3</td>\n",
              "    </tr>\n",
              "    <tr>\n",
              "      <th>1</th>\n",
              "      <td>O3</td>\n",
              "    </tr>\n",
              "    <tr>\n",
              "      <th>2</th>\n",
              "      <td>PM10</td>\n",
              "    </tr>\n",
              "    <tr>\n",
              "      <th>3</th>\n",
              "      <td>PM10</td>\n",
              "    </tr>\n",
              "    <tr>\n",
              "      <th>4</th>\n",
              "      <td>PM25</td>\n",
              "    </tr>\n",
              "    <tr>\n",
              "      <th>...</th>\n",
              "      <td>...</td>\n",
              "    </tr>\n",
              "    <tr>\n",
              "      <th>95</th>\n",
              "      <td>PM25</td>\n",
              "    </tr>\n",
              "    <tr>\n",
              "      <th>96</th>\n",
              "      <td>O3</td>\n",
              "    </tr>\n",
              "    <tr>\n",
              "      <th>97</th>\n",
              "      <td>O3</td>\n",
              "    </tr>\n",
              "    <tr>\n",
              "      <th>98</th>\n",
              "      <td>PM10</td>\n",
              "    </tr>\n",
              "    <tr>\n",
              "      <th>99</th>\n",
              "      <td>PM10</td>\n",
              "    </tr>\n",
              "  </tbody>\n",
              "</table>\n",
              "<p>100 rows × 1 columns</p>\n",
              "</div><br><label><b>dtype:</b> object</label>"
            ]
          },
          "metadata": {},
          "execution_count": 35
        }
      ]
    },
    {
      "cell_type": "markdown",
      "source": [
        "## 다양항 형식으로 데이터 저장\n"
      ],
      "metadata": {
        "id": "vVG0HYb0ymeM"
      }
    },
    {
      "cell_type": "code",
      "source": [
        "df.to_csv('air_pollution.csv', index=False, encoding='utf-8')\n",
        "\n",
        "## JSON 형식 데이터 저장\n",
        "df.to_json('air_pollution.json', indent=4, force_ascii=False)\n",
        "\n",
        "## EXCEL 형식 데이터 저장\n",
        "df.to_excel('air_pollution.xlsx', index=False)\n",
        "\n",
        "## HTML 형식 데이터 저장\n",
        "df.to_html('air_pollustion.html')\n"
      ],
      "metadata": {
        "id": "HW1ZodpgXNhG"
      },
      "execution_count": 37,
      "outputs": []
    }
  ]
}